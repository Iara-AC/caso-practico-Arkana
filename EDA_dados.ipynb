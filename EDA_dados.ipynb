{
 "cells": [
  {
   "cell_type": "code",
   "execution_count": 2,
   "metadata": {},
   "outputs": [],
   "source": [
    "# importar las librerías que necesarias\n",
    "\n",
    "# Tratamiento de datos\n",
    "# -----------------------------------------------------------------------\n",
    "import pandas as pd\n",
    "import numpy as np\n",
    "\n",
    "# Visualización\n",
    "# ------------------------------------------------------------------------------\n",
    "import matplotlib.pyplot as plt\n",
    "import seaborn as sns\n",
    "\n",
    "# Evaluar linealidad de las relaciones entre las variables\n",
    "# y la distribución de las variables\n",
    "# ------------------------------------------------------------------------------\n",
    "import scipy.stats as stats\n",
    "from scipy.stats import chi2_contingency, ttest_ind\n",
    "\n",
    "# Configuración\n",
    "# -----------------------------------------------------------------------\n",
    "pd.set_option('display.max_columns', None) # para poder visualizar todas las columnas de los DataFrames\n",
    "\n",
    "# Gestión de los warnings\n",
    "# -----------------------------------------------------------------------\n",
    "import warnings\n",
    "warnings.filterwarnings(\"ignore\")"
   ]
  },
  {
   "cell_type": "code",
   "execution_count": 4,
   "metadata": {},
   "outputs": [
    {
     "data": {
      "text/html": [
       "<div>\n",
       "<style scoped>\n",
       "    .dataframe tbody tr th:only-of-type {\n",
       "        vertical-align: middle;\n",
       "    }\n",
       "\n",
       "    .dataframe tbody tr th {\n",
       "        vertical-align: top;\n",
       "    }\n",
       "\n",
       "    .dataframe thead th {\n",
       "        text-align: right;\n",
       "    }\n",
       "</style>\n",
       "<table border=\"1\" class=\"dataframe\">\n",
       "  <thead>\n",
       "    <tr style=\"text-align: right;\">\n",
       "      <th></th>\n",
       "      <th>channel</th>\n",
       "      <th>sessions</th>\n",
       "      <th>unique_users</th>\n",
       "      <th>conversions</th>\n",
       "      <th>conversion_rate</th>\n",
       "      <th>spent</th>\n",
       "      <th>clicks</th>\n",
       "    </tr>\n",
       "    <tr>\n",
       "      <th>date</th>\n",
       "      <th></th>\n",
       "      <th></th>\n",
       "      <th></th>\n",
       "      <th></th>\n",
       "      <th></th>\n",
       "      <th></th>\n",
       "      <th></th>\n",
       "    </tr>\n",
       "  </thead>\n",
       "  <tbody>\n",
       "    <tr>\n",
       "      <th>2024-01-01</th>\n",
       "      <td>Web</td>\n",
       "      <td>2070</td>\n",
       "      <td>1750</td>\n",
       "      <td>88</td>\n",
       "      <td>0.0503</td>\n",
       "      <td>5352.48</td>\n",
       "      <td>648</td>\n",
       "    </tr>\n",
       "    <tr>\n",
       "      <th>2024-01-01</th>\n",
       "      <td>App</td>\n",
       "      <td>931</td>\n",
       "      <td>798</td>\n",
       "      <td>70</td>\n",
       "      <td>0.0884</td>\n",
       "      <td>2806.90</td>\n",
       "      <td>518</td>\n",
       "    </tr>\n",
       "    <tr>\n",
       "      <th>2024-01-01</th>\n",
       "      <td>Redes Sociales</td>\n",
       "      <td>4125</td>\n",
       "      <td>2446</td>\n",
       "      <td>83</td>\n",
       "      <td>0.0341</td>\n",
       "      <td>12746.98</td>\n",
       "      <td>966</td>\n",
       "    </tr>\n",
       "    <tr>\n",
       "      <th>2024-01-01</th>\n",
       "      <td>Email</td>\n",
       "      <td>1684</td>\n",
       "      <td>909</td>\n",
       "      <td>104</td>\n",
       "      <td>0.1149</td>\n",
       "      <td>7340.61</td>\n",
       "      <td>516</td>\n",
       "    </tr>\n",
       "    <tr>\n",
       "      <th>2024-01-01</th>\n",
       "      <td>SEO</td>\n",
       "      <td>1269</td>\n",
       "      <td>1256</td>\n",
       "      <td>12</td>\n",
       "      <td>0.0103</td>\n",
       "      <td>7213.24</td>\n",
       "      <td>1005</td>\n",
       "    </tr>\n",
       "    <tr>\n",
       "      <th>2024-01-01</th>\n",
       "      <td>Paid Ads</td>\n",
       "      <td>922</td>\n",
       "      <td>732</td>\n",
       "      <td>15</td>\n",
       "      <td>0.0207</td>\n",
       "      <td>13194.74</td>\n",
       "      <td>390</td>\n",
       "    </tr>\n",
       "    <tr>\n",
       "      <th>2024-01-02</th>\n",
       "      <td>Web</td>\n",
       "      <td>4738</td>\n",
       "      <td>2883</td>\n",
       "      <td>173</td>\n",
       "      <td>0.0601</td>\n",
       "      <td>14241.56</td>\n",
       "      <td>984</td>\n",
       "    </tr>\n",
       "    <tr>\n",
       "      <th>2024-01-02</th>\n",
       "      <td>App</td>\n",
       "      <td>4664</td>\n",
       "      <td>3209</td>\n",
       "      <td>320</td>\n",
       "      <td>0.0999</td>\n",
       "      <td>2100.87</td>\n",
       "      <td>1780</td>\n",
       "    </tr>\n",
       "    <tr>\n",
       "      <th>2024-01-02</th>\n",
       "      <td>Redes Sociales</td>\n",
       "      <td>1987</td>\n",
       "      <td>1951</td>\n",
       "      <td>50</td>\n",
       "      <td>0.0259</td>\n",
       "      <td>12949.83</td>\n",
       "      <td>908</td>\n",
       "    </tr>\n",
       "    <tr>\n",
       "      <th>2024-01-02</th>\n",
       "      <td>Email</td>\n",
       "      <td>2200</td>\n",
       "      <td>2042</td>\n",
       "      <td>374</td>\n",
       "      <td>0.1834</td>\n",
       "      <td>14732.27</td>\n",
       "      <td>1387</td>\n",
       "    </tr>\n",
       "  </tbody>\n",
       "</table>\n",
       "</div>"
      ],
      "text/plain": [
       "                   channel  sessions  unique_users  conversions  \\\n",
       "date                                                              \n",
       "2024-01-01             Web      2070          1750           88   \n",
       "2024-01-01             App       931           798           70   \n",
       "2024-01-01  Redes Sociales      4125          2446           83   \n",
       "2024-01-01           Email      1684           909          104   \n",
       "2024-01-01             SEO      1269          1256           12   \n",
       "2024-01-01        Paid Ads       922           732           15   \n",
       "2024-01-02             Web      4738          2883          173   \n",
       "2024-01-02             App      4664          3209          320   \n",
       "2024-01-02  Redes Sociales      1987          1951           50   \n",
       "2024-01-02           Email      2200          2042          374   \n",
       "\n",
       "            conversion_rate     spent  clicks  \n",
       "date                                           \n",
       "2024-01-01           0.0503   5352.48     648  \n",
       "2024-01-01           0.0884   2806.90     518  \n",
       "2024-01-01           0.0341  12746.98     966  \n",
       "2024-01-01           0.1149   7340.61     516  \n",
       "2024-01-01           0.0103   7213.24    1005  \n",
       "2024-01-01           0.0207  13194.74     390  \n",
       "2024-01-02           0.0601  14241.56     984  \n",
       "2024-01-02           0.0999   2100.87    1780  \n",
       "2024-01-02           0.0259  12949.83     908  \n",
       "2024-01-02           0.1834  14732.27    1387  "
      ]
     },
     "execution_count": 4,
     "metadata": {},
     "output_type": "execute_result"
    }
   ],
   "source": [
    "# Cargar los datos que vamos a usar \n",
    "\n",
    "df = pd.read_csv(\"dados/digital_campaign_savings_account.csv\", index_col = 0)\n",
    "df.head(10)"
   ]
  },
  {
   "cell_type": "markdown",
   "metadata": {},
   "source": [
    "Informaciones genericas de los datos utilizados"
   ]
  },
  {
   "cell_type": "code",
   "execution_count": 41,
   "metadata": {},
   "outputs": [
    {
     "name": "stdout",
     "output_type": "stream",
     "text": [
      "El datadrame tiene 360 filas y 7 columnas.\n"
     ]
    }
   ],
   "source": [
    "# ¿Cuántas filas y columnas tenemos en el dataframe?\n",
    "\n",
    "print(f'El datadrame tiene {df.shape[0]} filas y {df.shape[1]} columnas.')"
   ]
  },
  {
   "cell_type": "code",
   "execution_count": 42,
   "metadata": {},
   "outputs": [
    {
     "name": "stdout",
     "output_type": "stream",
     "text": [
      "Las columnas del DataFrame son: \n",
      " channel             object\n",
      "sessions             int64\n",
      "unique_users         int64\n",
      "conversions          int64\n",
      "conversion_rate    float64\n",
      "spent              float64\n",
      "clicks               int64\n",
      "dtype: object\n"
     ]
    }
   ],
   "source": [
    "# ¿Cuáles son los tipos de los datos de cada columna del dataframe?\n",
    "\n",
    "print(f\"Las columnas del DataFrame son: \\n {df.dtypes}\")"
   ]
  },
  {
   "cell_type": "code",
   "execution_count": 43,
   "metadata": {},
   "outputs": [
    {
     "name": "stdout",
     "output_type": "stream",
     "text": [
      "<class 'pandas.core.frame.DataFrame'>\n",
      "Index: 360 entries, 2024-01-01 to 2024-02-29\n",
      "Data columns (total 7 columns):\n",
      " #   Column           Non-Null Count  Dtype  \n",
      "---  ------           --------------  -----  \n",
      " 0   channel          360 non-null    object \n",
      " 1   sessions         360 non-null    int64  \n",
      " 2   unique_users     360 non-null    int64  \n",
      " 3   conversions      360 non-null    int64  \n",
      " 4   conversion_rate  360 non-null    float64\n",
      " 5   spent            360 non-null    float64\n",
      " 6   clicks           360 non-null    int64  \n",
      "dtypes: float64(2), int64(4), object(1)\n",
      "memory usage: 22.5+ KB\n"
     ]
    }
   ],
   "source": [
    "df.info()"
   ]
  },
  {
   "cell_type": "code",
   "execution_count": 45,
   "metadata": {},
   "outputs": [
    {
     "data": {
      "text/html": [
       "<div>\n",
       "<style scoped>\n",
       "    .dataframe tbody tr th:only-of-type {\n",
       "        vertical-align: middle;\n",
       "    }\n",
       "\n",
       "    .dataframe tbody tr th {\n",
       "        vertical-align: top;\n",
       "    }\n",
       "\n",
       "    .dataframe thead th {\n",
       "        text-align: right;\n",
       "    }\n",
       "</style>\n",
       "<table border=\"1\" class=\"dataframe\">\n",
       "  <thead>\n",
       "    <tr style=\"text-align: right;\">\n",
       "      <th></th>\n",
       "      <th>count</th>\n",
       "      <th>mean</th>\n",
       "      <th>std</th>\n",
       "      <th>min</th>\n",
       "      <th>25%</th>\n",
       "      <th>50%</th>\n",
       "      <th>75%</th>\n",
       "      <th>max</th>\n",
       "    </tr>\n",
       "  </thead>\n",
       "  <tbody>\n",
       "    <tr>\n",
       "      <th>sessions</th>\n",
       "      <td>360.0</td>\n",
       "      <td>2639.536111</td>\n",
       "      <td>1297.206495</td>\n",
       "      <td>526.0000</td>\n",
       "      <td>1534.50000</td>\n",
       "      <td>2606.50000</td>\n",
       "      <td>3765.250000</td>\n",
       "      <td>4952.0000</td>\n",
       "    </tr>\n",
       "    <tr>\n",
       "      <th>unique_users</th>\n",
       "      <td>360.0</td>\n",
       "      <td>1944.363889</td>\n",
       "      <td>1028.570890</td>\n",
       "      <td>280.0000</td>\n",
       "      <td>1049.00000</td>\n",
       "      <td>1838.00000</td>\n",
       "      <td>2648.500000</td>\n",
       "      <td>4657.0000</td>\n",
       "    </tr>\n",
       "    <tr>\n",
       "      <th>conversions</th>\n",
       "      <td>360.0</td>\n",
       "      <td>126.955556</td>\n",
       "      <td>130.805745</td>\n",
       "      <td>5.0000</td>\n",
       "      <td>43.75000</td>\n",
       "      <td>84.50000</td>\n",
       "      <td>156.250000</td>\n",
       "      <td>764.0000</td>\n",
       "    </tr>\n",
       "    <tr>\n",
       "      <th>conversion_rate</th>\n",
       "      <td>360.0</td>\n",
       "      <td>0.064187</td>\n",
       "      <td>0.047626</td>\n",
       "      <td>0.0103</td>\n",
       "      <td>0.02935</td>\n",
       "      <td>0.04805</td>\n",
       "      <td>0.084725</td>\n",
       "      <td>0.1991</td>\n",
       "    </tr>\n",
       "    <tr>\n",
       "      <th>spent</th>\n",
       "      <td>360.0</td>\n",
       "      <td>8038.518000</td>\n",
       "      <td>4390.058753</td>\n",
       "      <td>540.5300</td>\n",
       "      <td>4427.13750</td>\n",
       "      <td>8056.54000</td>\n",
       "      <td>12165.085000</td>\n",
       "      <td>14950.0200</td>\n",
       "    </tr>\n",
       "    <tr>\n",
       "      <th>clicks</th>\n",
       "      <td>360.0</td>\n",
       "      <td>1274.102778</td>\n",
       "      <td>810.282830</td>\n",
       "      <td>91.0000</td>\n",
       "      <td>617.25000</td>\n",
       "      <td>1100.00000</td>\n",
       "      <td>1749.750000</td>\n",
       "      <td>3773.0000</td>\n",
       "    </tr>\n",
       "  </tbody>\n",
       "</table>\n",
       "</div>"
      ],
      "text/plain": [
       "                 count         mean          std       min         25%  \\\n",
       "sessions         360.0  2639.536111  1297.206495  526.0000  1534.50000   \n",
       "unique_users     360.0  1944.363889  1028.570890  280.0000  1049.00000   \n",
       "conversions      360.0   126.955556   130.805745    5.0000    43.75000   \n",
       "conversion_rate  360.0     0.064187     0.047626    0.0103     0.02935   \n",
       "spent            360.0  8038.518000  4390.058753  540.5300  4427.13750   \n",
       "clicks           360.0  1274.102778   810.282830   91.0000   617.25000   \n",
       "\n",
       "                        50%           75%         max  \n",
       "sessions         2606.50000   3765.250000   4952.0000  \n",
       "unique_users     1838.00000   2648.500000   4657.0000  \n",
       "conversions        84.50000    156.250000    764.0000  \n",
       "conversion_rate     0.04805      0.084725      0.1991  \n",
       "spent            8056.54000  12165.085000  14950.0200  \n",
       "clicks           1100.00000   1749.750000   3773.0000  "
      ]
     },
     "execution_count": 45,
     "metadata": {},
     "output_type": "execute_result"
    }
   ],
   "source": [
    "# Muestra los principales estadísticos para las columnas numéricas del dataframe\n",
    "\n",
    "df.describe().T"
   ]
  },
  {
   "cell_type": "code",
   "execution_count": 46,
   "metadata": {},
   "outputs": [
    {
     "name": "stdout",
     "output_type": "stream",
     "text": [
      "Las columnas del DataFrame de variables categóricas son Index(['channel'], dtype='object')\n",
      " \n",
      "----------- ESTAMOS ANALIZANDO LA COLUMNA: 'CHANNEL' -----------\n",
      "\n",
      "Sus valores únicos son: ['Web' 'App' 'Redes Sociales' 'Email' 'SEO' 'Paid Ads']\n",
      "\n",
      "Las frecuencias de los valores únicos de las categorías son: channel\n",
      "Web               60\n",
      "App               60\n",
      "Redes Sociales    60\n",
      "Email             60\n",
      "SEO               60\n",
      "Paid Ads          60\n",
      "Name: count, dtype: int64 \n"
     ]
    }
   ],
   "source": [
    "# Muestra los principales estadísticos para las columnas categoricas del dataframe\n",
    "\n",
    "df_cat = df.select_dtypes(include=\"object\")\n",
    "df_cat.head(2)\n",
    "\n",
    "# creamos una variable con los nombres de las columnas del DataFrame de las variables categóricas utilizando el método '.columns'\n",
    "columnas_cat = df_cat.columns\n",
    "print(f\"Las columnas del DataFrame de variables categóricas son {columnas_cat}\")\n",
    "\n",
    "# empezamos a iterar por cada una de las columnas para sacar principales estadisticos\n",
    "for columna in columnas_cat:\n",
    "    print(f\" \\n----------- ESTAMOS ANALIZANDO LA COLUMNA: '{columna.upper()}' -----------\\n\")\n",
    "    print(f\"Sus valores únicos son: {df_cat[columna].unique()}\\n\")\n",
    "    print(f\"Las frecuencias de los valores únicos de las categorías son: {df_cat[columna].value_counts()} \")"
   ]
  },
  {
   "cell_type": "code",
   "execution_count": 47,
   "metadata": {},
   "outputs": [
    {
     "name": "stdout",
     "output_type": "stream",
     "text": [
      "channel\n",
      "App               0.085972\n",
      "Email             0.152615\n",
      "Paid Ads          0.040197\n",
      "Redes Sociales    0.035145\n",
      "SEO               0.018863\n",
      "Web               0.052330\n",
      "Name: conversion_rate, dtype: float64\n"
     ]
    }
   ],
   "source": [
    "# Calcular la media de la tasa de conversión por canal\n",
    "media_conversion = df.groupby(\"channel\")[\"conversion_rate\"].mean()\n",
    "\n",
    "print(media_conversion)"
   ]
  },
  {
   "cell_type": "code",
   "execution_count": 48,
   "metadata": {},
   "outputs": [
    {
     "name": "stdout",
     "output_type": "stream",
     "text": [
      "                   sessions                    conversions                  \\\n",
      "                       mean     sum   max  min        mean    sum  max min   \n",
      "channel                                                                      \n",
      "App             2677.950000  160677  4860  646  176.016667  10561  519  24   \n",
      "Email           2657.966667  159478  4871  538  307.250000  18435  764  52   \n",
      "Paid Ads        2406.466667  144388  4919  730   70.200000   4212  226  11   \n",
      "Redes Sociales  2731.316667  163879  4835  536   69.066667   4144  180  12   \n",
      "SEO             2588.083333  155285  4952  555   34.033333   2042   83   5   \n",
      "Web             2775.433333  166526  4849  526  105.166667   6310  304  14   \n",
      "\n",
      "               conversion_rate        spent                  clicks         \n",
      "                          mean         mean        sum         mean    sum  \n",
      "channel                                                                     \n",
      "App                   0.085972  7366.644000  441998.64  1307.600000  78456  \n",
      "Email                 0.152615  8034.431833  482065.91  1265.883333  75953  \n",
      "Paid Ads              0.040197  7893.007500  473580.45  1124.483333  67469  \n",
      "Redes Sociales        0.035145  8646.662167  518799.73  1337.616667  80257  \n",
      "SEO                   0.018863  7859.026500  471541.59  1340.566667  80434  \n",
      "Web                   0.052330  8431.336000  505880.16  1268.466667  76108  \n"
     ]
    }
   ],
   "source": [
    "def resumen_por_canal(df):\n",
    "    \"\"\"\n",
    "    Devuelve un resumen estadístico de cada variable por canal.\n",
    "    \n",
    "    Parámetros:\n",
    "    - df (DataFrame): DataFrame con los datos de la campaña.\n",
    "    \n",
    "    Retorna:\n",
    "    - DataFrame con estadísticas descriptivas por canal.\n",
    "    \"\"\"\n",
    "    resumen = df.groupby(\"channel\").agg({\n",
    "        \"sessions\": [\"mean\", \"sum\", \"max\", \"min\"],\n",
    "        \"conversions\": [\"mean\", \"sum\", \"max\", \"min\"],\n",
    "        \"conversion_rate\": [\"mean\"],\n",
    "        \"spent\": [\"mean\", \"sum\"],\n",
    "        \"clicks\": [\"mean\", \"sum\"]\n",
    "    })\n",
    "    \n",
    "    return resumen\n",
    "\n",
    "# Llamar a la función con el DataFrame ya cargado\n",
    "resumen = resumen_por_canal(df)\n",
    "print(resumen)"
   ]
  },
  {
   "cell_type": "code",
   "execution_count": 49,
   "metadata": {},
   "outputs": [
    {
     "data": {
      "text/html": [
       "<div>\n",
       "<style scoped>\n",
       "    .dataframe tbody tr th:only-of-type {\n",
       "        vertical-align: middle;\n",
       "    }\n",
       "\n",
       "    .dataframe tbody tr th {\n",
       "        vertical-align: top;\n",
       "    }\n",
       "\n",
       "    .dataframe thead tr th {\n",
       "        text-align: left;\n",
       "    }\n",
       "\n",
       "    .dataframe thead tr:last-of-type th {\n",
       "        text-align: right;\n",
       "    }\n",
       "</style>\n",
       "<table border=\"1\" class=\"dataframe\">\n",
       "  <thead>\n",
       "    <tr>\n",
       "      <th></th>\n",
       "      <th colspan=\"4\" halign=\"left\">sessions</th>\n",
       "      <th colspan=\"4\" halign=\"left\">conversions</th>\n",
       "      <th>conversion_rate</th>\n",
       "      <th colspan=\"2\" halign=\"left\">spent</th>\n",
       "      <th colspan=\"2\" halign=\"left\">clicks</th>\n",
       "    </tr>\n",
       "    <tr>\n",
       "      <th></th>\n",
       "      <th>mean</th>\n",
       "      <th>sum</th>\n",
       "      <th>max</th>\n",
       "      <th>min</th>\n",
       "      <th>mean</th>\n",
       "      <th>sum</th>\n",
       "      <th>max</th>\n",
       "      <th>min</th>\n",
       "      <th>mean</th>\n",
       "      <th>mean</th>\n",
       "      <th>sum</th>\n",
       "      <th>mean</th>\n",
       "      <th>sum</th>\n",
       "    </tr>\n",
       "    <tr>\n",
       "      <th>channel</th>\n",
       "      <th></th>\n",
       "      <th></th>\n",
       "      <th></th>\n",
       "      <th></th>\n",
       "      <th></th>\n",
       "      <th></th>\n",
       "      <th></th>\n",
       "      <th></th>\n",
       "      <th></th>\n",
       "      <th></th>\n",
       "      <th></th>\n",
       "      <th></th>\n",
       "      <th></th>\n",
       "    </tr>\n",
       "  </thead>\n",
       "  <tbody>\n",
       "    <tr>\n",
       "      <th>App</th>\n",
       "      <td>2677.950000</td>\n",
       "      <td>160677</td>\n",
       "      <td>4860</td>\n",
       "      <td>646</td>\n",
       "      <td>176.016667</td>\n",
       "      <td>10561</td>\n",
       "      <td>519</td>\n",
       "      <td>24</td>\n",
       "      <td>0.085972</td>\n",
       "      <td>7366.644000</td>\n",
       "      <td>441998.64</td>\n",
       "      <td>1307.600000</td>\n",
       "      <td>78456</td>\n",
       "    </tr>\n",
       "    <tr>\n",
       "      <th>Email</th>\n",
       "      <td>2657.966667</td>\n",
       "      <td>159478</td>\n",
       "      <td>4871</td>\n",
       "      <td>538</td>\n",
       "      <td>307.250000</td>\n",
       "      <td>18435</td>\n",
       "      <td>764</td>\n",
       "      <td>52</td>\n",
       "      <td>0.152615</td>\n",
       "      <td>8034.431833</td>\n",
       "      <td>482065.91</td>\n",
       "      <td>1265.883333</td>\n",
       "      <td>75953</td>\n",
       "    </tr>\n",
       "    <tr>\n",
       "      <th>Paid Ads</th>\n",
       "      <td>2406.466667</td>\n",
       "      <td>144388</td>\n",
       "      <td>4919</td>\n",
       "      <td>730</td>\n",
       "      <td>70.200000</td>\n",
       "      <td>4212</td>\n",
       "      <td>226</td>\n",
       "      <td>11</td>\n",
       "      <td>0.040197</td>\n",
       "      <td>7893.007500</td>\n",
       "      <td>473580.45</td>\n",
       "      <td>1124.483333</td>\n",
       "      <td>67469</td>\n",
       "    </tr>\n",
       "    <tr>\n",
       "      <th>Redes Sociales</th>\n",
       "      <td>2731.316667</td>\n",
       "      <td>163879</td>\n",
       "      <td>4835</td>\n",
       "      <td>536</td>\n",
       "      <td>69.066667</td>\n",
       "      <td>4144</td>\n",
       "      <td>180</td>\n",
       "      <td>12</td>\n",
       "      <td>0.035145</td>\n",
       "      <td>8646.662167</td>\n",
       "      <td>518799.73</td>\n",
       "      <td>1337.616667</td>\n",
       "      <td>80257</td>\n",
       "    </tr>\n",
       "    <tr>\n",
       "      <th>SEO</th>\n",
       "      <td>2588.083333</td>\n",
       "      <td>155285</td>\n",
       "      <td>4952</td>\n",
       "      <td>555</td>\n",
       "      <td>34.033333</td>\n",
       "      <td>2042</td>\n",
       "      <td>83</td>\n",
       "      <td>5</td>\n",
       "      <td>0.018863</td>\n",
       "      <td>7859.026500</td>\n",
       "      <td>471541.59</td>\n",
       "      <td>1340.566667</td>\n",
       "      <td>80434</td>\n",
       "    </tr>\n",
       "    <tr>\n",
       "      <th>Web</th>\n",
       "      <td>2775.433333</td>\n",
       "      <td>166526</td>\n",
       "      <td>4849</td>\n",
       "      <td>526</td>\n",
       "      <td>105.166667</td>\n",
       "      <td>6310</td>\n",
       "      <td>304</td>\n",
       "      <td>14</td>\n",
       "      <td>0.052330</td>\n",
       "      <td>8431.336000</td>\n",
       "      <td>505880.16</td>\n",
       "      <td>1268.466667</td>\n",
       "      <td>76108</td>\n",
       "    </tr>\n",
       "  </tbody>\n",
       "</table>\n",
       "</div>"
      ],
      "text/plain": [
       "                   sessions                    conversions                  \\\n",
       "                       mean     sum   max  min        mean    sum  max min   \n",
       "channel                                                                      \n",
       "App             2677.950000  160677  4860  646  176.016667  10561  519  24   \n",
       "Email           2657.966667  159478  4871  538  307.250000  18435  764  52   \n",
       "Paid Ads        2406.466667  144388  4919  730   70.200000   4212  226  11   \n",
       "Redes Sociales  2731.316667  163879  4835  536   69.066667   4144  180  12   \n",
       "SEO             2588.083333  155285  4952  555   34.033333   2042   83   5   \n",
       "Web             2775.433333  166526  4849  526  105.166667   6310  304  14   \n",
       "\n",
       "               conversion_rate        spent                  clicks         \n",
       "                          mean         mean        sum         mean    sum  \n",
       "channel                                                                     \n",
       "App                   0.085972  7366.644000  441998.64  1307.600000  78456  \n",
       "Email                 0.152615  8034.431833  482065.91  1265.883333  75953  \n",
       "Paid Ads              0.040197  7893.007500  473580.45  1124.483333  67469  \n",
       "Redes Sociales        0.035145  8646.662167  518799.73  1337.616667  80257  \n",
       "SEO                   0.018863  7859.026500  471541.59  1340.566667  80434  \n",
       "Web                   0.052330  8431.336000  505880.16  1268.466667  76108  "
      ]
     },
     "metadata": {},
     "output_type": "display_data"
    }
   ],
   "source": [
    "display(resumen)"
   ]
  },
  {
   "cell_type": "markdown",
   "metadata": {},
   "source": [
    "Validaciones para asegurar que el dataset es consistente:"
   ]
  },
  {
   "cell_type": "code",
   "execution_count": 44,
   "metadata": {},
   "outputs": [
    {
     "name": "stdout",
     "output_type": "stream",
     "text": [
      "Filas duplicadas = 0\n"
     ]
    }
   ],
   "source": [
    "# ¿Tenemos filas duplicadas en el dataframe ?\n",
    "\n",
    "print(f'Filas duplicadas = {df.duplicated().sum()}')"
   ]
  },
  {
   "cell_type": "code",
   "execution_count": 51,
   "metadata": {},
   "outputs": [],
   "source": [
    "def sessions_vs_users(df):\n",
    "    \"\"\"Asegura que las sesiones sean siempre mayores que los usuarios únicos.\"\"\"\n",
    "    invalid_rows = df[df['sessions'] < df['unique_users']]\n",
    "    if not invalid_rows.empty:\n",
    "        print(\"⚠️ Hay filas donde sessions < unique_users. Revisa:\")\n",
    "        print(invalid_rows)\n",
    "    else:\n",
    "        print(\"✅ Todas las sesiones son mayores que los usuarios únicos.\")"
   ]
  },
  {
   "cell_type": "code",
   "execution_count": 52,
   "metadata": {},
   "outputs": [],
   "source": [
    "def validate_conversion_rate(df):\n",
    "    \"\"\"Asegura que la tasa de conversión está entre 0 y 1.\"\"\"\n",
    "    invalid_rows = df[(df['conversion_rate'] < 0) | (df['conversion_rate'] > 1)]\n",
    "    if not invalid_rows.empty:\n",
    "        print(\"⚠️ Hay tasas de conversión fuera del rango [0,1]. Revisa:\")\n",
    "        print(invalid_rows)\n",
    "    else:\n",
    "        print(\"✅ Todas las tasas de conversión están en el rango correcto.\")"
   ]
  },
  {
   "cell_type": "code",
   "execution_count": 53,
   "metadata": {},
   "outputs": [],
   "source": [
    "def run_validations(df):\n",
    "    \"\"\"Ejecuta todas las validaciones sobre el dataset.\"\"\"\n",
    "    print(\"--- Iniciando validaciones ---\")\n",
    "    sessions_vs_users(df)\n",
    "    validate_conversion_rate(df)\n",
    "    print(\"--- Validaciones completadas ---\")"
   ]
  },
  {
   "cell_type": "code",
   "execution_count": 54,
   "metadata": {},
   "outputs": [
    {
     "name": "stdout",
     "output_type": "stream",
     "text": [
      "--- Iniciando validaciones ---\n",
      "✅ Todas las sesiones son mayores que los usuarios únicos.\n",
      "✅ Todas las tasas de conversión están en el rango correcto.\n",
      "--- Validaciones completadas ---\n"
     ]
    }
   ],
   "source": [
    "run_validations(df)"
   ]
  },
  {
   "cell_type": "markdown",
   "metadata": {},
   "source": [
    "Visualización:"
   ]
  },
  {
   "cell_type": "code",
   "execution_count": 15,
   "metadata": {},
   "outputs": [
    {
     "data": {
      "image/png": "[encoded data removed]",
      "text/plain": [
       "<Figure size 800x600 with 2 Axes>"
      ]
     },
     "metadata": {},
     "output_type": "display_data"
    }
   ],
   "source": [
    "def plot_correlation_chart(df):\n",
    "        \n",
    "    # Filtrar solo los canales 'App' y 'Web'\n",
    "    df_filtered = df[df['channel'].isin(['App', 'Web'])]\n",
    "    \n",
    "    # Seleccionar las columnas de interés\n",
    "    df_corr = df_filtered[['spent', 'conversions', 'sessions']]\n",
    "    \n",
    "    # Calcular la matriz de correlación\n",
    "    correlation_matrix = df_corr.corr()\n",
    "    \n",
    "    \n",
    "    # Crear el gráfico de calor con Seaborn\n",
    "    plt.figure(figsize=(8, 6))\n",
    "    sns.heatmap(correlation_matrix, annot=True, cmap='Blues', fmt='.2f')\n",
    "    plt.title('Correlación entre Gasto, Conversiones y Sesiones (App y Web)')\n",
    "    plt.show()\n",
    "\n",
    "# Llamar la función con el archivo cargado\n",
    "plot_correlation_chart(df)\n"
   ]
  },
  {
   "cell_type": "code",
   "execution_count": 31,
   "metadata": {},
   "outputs": [
    {
     "data": {
      "image/png": "[encoded data removed]",
      "text/plain": [
       "<Figure size 400x200 with 2 Axes>"
      ]
     },
     "metadata": {},
     "output_type": "display_data"
    }
   ],
   "source": [
    "def plot_correlation_chart(df,channel):\n",
    "        \n",
    "    # Filtrar solo los canales 'App' y 'Web'\n",
    "    df_filtered = df[df['channel'].isin([channel])]\n",
    "    \n",
    "    # Seleccionar las columnas de interés\n",
    "    df_corr = df_filtered[['spent', 'conversions', 'sessions']]\n",
    "    \n",
    "    # Calcular la matriz de correlación\n",
    "    correlation_matrix = df_corr.corr()\n",
    "    \n",
    "    # creamos una matriz booleana de máscara\n",
    "    mask = np.triu(np.ones_like(df_corr, dtype=bool))\n",
    "    \n",
    "    # Crear el gráfico de calor con Seaborn\n",
    "    plt.figure(figsize=(4, 2))\n",
    "    sns.heatmap(correlation_matrix, annot=True, cmap='Blues', fmt='.2f')\n",
    "    plt.title (f'Correlación entre Gasto, Conversiones y Sesiones {channel}')\n",
    "    plt.show()\n",
    "\n",
    "# Llamar la función con el archivo cargado\n",
    "plot_correlation_chart(df,'Web')\n"
   ]
  },
  {
   "cell_type": "code",
   "execution_count": 32,
   "metadata": {},
   "outputs": [
    {
     "data": {
      "image/png": "[encoded data removed]",
      "text/plain": [
       "<Figure size 400x200 with 2 Axes>"
      ]
     },
     "metadata": {},
     "output_type": "display_data"
    }
   ],
   "source": [
    "plot_correlation_chart(df,'App')"
   ]
  }
 ],
 "metadata": {
  "kernelspec": {
   "display_name": "Python 3",
   "language": "python",
   "name": "python3"
  },
  "language_info": {
   "codemirror_mode": {
    "name": "ipython",
    "version": 3
   },
   "file_extension": ".py",
   "mimetype": "text/x-python",
   "name": "python",
   "nbconvert_exporter": "python",
   "pygments_lexer": "ipython3",
   "version": "3.12.5"
  }
 },
 "nbformat": 4,
 "nbformat_minor": 2
}
